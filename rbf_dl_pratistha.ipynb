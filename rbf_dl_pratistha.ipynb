{
  "nbformat": 4,
  "nbformat_minor": 0,
  "metadata": {
    "colab": {
      "provenance": [],
      "authorship_tag": "ABX9TyMLJNX5MGOkmU9Z6Qjs97HC",
      "include_colab_link": true
    },
    "kernelspec": {
      "name": "python3",
      "display_name": "Python 3"
    },
    "language_info": {
      "name": "python"
    }
  },
  "cells": [
    {
      "cell_type": "markdown",
      "metadata": {
        "id": "view-in-github",
        "colab_type": "text"
      },
      "source": [
        "<a href=\"https://colab.research.google.com/github/Pratistha18/Radial-Basis-Function-Networks-RBFNs-/blob/main/rbf_dl_pratistha.ipynb\" target=\"_parent\"><img src=\"https://colab.research.google.com/assets/colab-badge.svg\" alt=\"Open In Colab\"/></a>"
      ]
    },
    {
      "cell_type": "code",
      "execution_count": null,
      "metadata": {
        "colab": {
          "base_uri": "https://localhost:8080/"
        },
        "id": "6SelHWJFTWK3",
        "outputId": "89268738-c7ea-4751-ead5-c5e6acd2cfb5"
      },
      "outputs": [
        {
          "output_type": "stream",
          "name": "stdout",
          "text": [
            "Accuracy score: 0.933\n"
          ]
        }
      ],
      "source": [
        "import numpy as np\n",
        "from scipy.spatial.distance import cdist\n",
        "\n",
        "class RBFNetwork:\n",
        "    def __init__(self, k):\n",
        "        self.k = k\n",
        "        self.centroids = None\n",
        "        self.weights = None\n",
        "\n",
        "    def fit(self, X, y):\n",
        "        # Step 1: Initialize the centroids randomly\n",
        "        self.centroids = X[np.random.choice(X.shape[0], self.k, replace=False)]\n",
        "\n",
        "        # Step 2: Calculate the distance between each training example and the k centroids\n",
        "        distances = cdist(X, self.centroids)\n",
        "\n",
        "        # Step 3: Compute the RBF outputs\n",
        "        rbf_outputs = np.exp(-(distances ** 2))\n",
        "\n",
        "        # Step 4: Train the output layer weights using linear regression\n",
        "        self.weights = np.linalg.lstsq(rbf_outputs, y, rcond=None)[0]\n",
        "\n",
        "    def predict(self, X):\n",
        "        # Step 2: Calculate the distance between each test example and the k centroids\n",
        "        distances = cdist(X, self.centroids)\n",
        "\n",
        "        # Step 3: Compute the RBF outputs\n",
        "        rbf_outputs = np.exp(-(distances ** 2))\n",
        "\n",
        "        # Step 5: Predict the output\n",
        "        return np.dot(rbf_outputs, self.weights)\n",
        "\n",
        "# Sample usage\n",
        "# Load a dataset (e.g. iris dataset)\n",
        "from sklearn.datasets import load_iris\n",
        "iris = load_iris()\n",
        "X = iris.data\n",
        "y = iris.target\n",
        "\n",
        "# Split the dataset into training and testing sets\n",
        "from sklearn.model_selection import train_test_split\n",
        "X_train, X_test, y_train, y_test = train_test_split(X, y, test_size=0.2, random_state=42)\n",
        "\n",
        "# Train the RBF network on the training set\n",
        "rbf = RBFNetwork(k=50)\n",
        "rbf.fit(X_train, y_train)\n",
        "\n",
        "# Predict the output on the test set\n",
        "y_pred = rbf.predict(X_test)\n",
        "\n",
        "# Evaluate the performance of the model using accuracy score\n",
        "from sklearn.metrics import accuracy_score\n",
        "acc = accuracy_score(y_test, y_pred.round())\n",
        "print(f\"Accuracy score: {acc:.3f}\")\n"
      ]
    }
  ]
}